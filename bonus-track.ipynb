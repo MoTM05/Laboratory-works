{
 "cells": [
  {
   "cell_type": "code",
   "execution_count": 24,
   "id": "e70c955f",
   "metadata": {},
   "outputs": [],
   "source": [
    "def grade(score):\n",
    "    if score >= 0 and score < 60:\n",
    "        return ('неудовлетворительно')\n",
    "    elif score >= 60 and score <= 74:\n",
    "        return ('удовлетворительно')\n",
    "    elif score > 74 and score <= 90:\n",
    "        return ('хорошо')\n",
    "    elif score > 90 and score <= 100:\n",
    "        return ('отлично')"
   ]
  },
  {
   "cell_type": "code",
   "execution_count": 27,
   "id": "9ab51e22",
   "metadata": {},
   "outputs": [
    {
     "data": {
      "text/plain": [
       "'отлично'"
      ]
     },
     "execution_count": 27,
     "metadata": {},
     "output_type": "execute_result"
    }
   ],
   "source": [
    "grade(95)"
   ]
  },
  {
   "cell_type": "code",
   "execution_count": null,
   "id": "03b306af",
   "metadata": {},
   "outputs": [],
   "source": []
  },
  {
   "cell_type": "code",
   "execution_count": 38,
   "id": "5641b1cc",
   "metadata": {},
   "outputs": [],
   "source": [
    "def solve(a, b):\n",
    "    if a == 0 and b == 0:\n",
    "        return ('Any')\n",
    "    elif a == 0 and b != 0:\n",
    "        return ('Error')\n",
    "    else:\n",
    "        x = b / a\n",
    "        return x"
   ]
  },
  {
   "cell_type": "code",
   "execution_count": 41,
   "id": "2798d245",
   "metadata": {},
   "outputs": [
    {
     "data": {
      "text/plain": [
       "'Error'"
      ]
     },
     "execution_count": 41,
     "metadata": {},
     "output_type": "execute_result"
    }
   ],
   "source": [
    "solve(0, 7)"
   ]
  },
  {
   "cell_type": "code",
   "execution_count": null,
   "id": "3abcbeec",
   "metadata": {},
   "outputs": [],
   "source": []
  },
  {
   "cell_type": "code",
   "execution_count": 82,
   "id": "979e6465",
   "metadata": {},
   "outputs": [],
   "source": [
    "def gen_list(a, b, c):\n",
    "    for i in range(a, b, c):\n",
    "        arr = list(range(a, b, c))\n",
    "        return arr"
   ]
  },
  {
   "cell_type": "code",
   "execution_count": 83,
   "id": "ae6a64ea",
   "metadata": {},
   "outputs": [
    {
     "data": {
      "text/plain": [
       "[1, 3, 5]"
      ]
     },
     "execution_count": 83,
     "metadata": {},
     "output_type": "execute_result"
    }
   ],
   "source": [
    "gen_list(1, 7, 2)"
   ]
  },
  {
   "cell_type": "code",
   "execution_count": null,
   "id": "e7df8703",
   "metadata": {},
   "outputs": [],
   "source": []
  },
  {
   "cell_type": "code",
   "execution_count": 85,
   "id": "1f621721",
   "metadata": {},
   "outputs": [],
   "source": [
    "def gen_list(list1):\n",
    "    list2 = list1.copy()                  \n",
    "    list2[0] = list1[-1]                  \n",
    "    list2[1] = sum(list1)/len(list1)      \n",
    "    list2[2] = list1[2]**3               \n",
    "    list2[-1] = list1[0]                 \n",
    "    list2[3:-1] = list1[-2:2:-1]         \n",
    "    return list2"
   ]
  },
  {
   "cell_type": "code",
   "execution_count": 86,
   "id": "bd3c3a77",
   "metadata": {},
   "outputs": [
    {
     "data": {
      "text/plain": [
       "[10, 5.5, 27, 9, 8, 7, 6, 5, 4, 1]"
      ]
     },
     "execution_count": 86,
     "metadata": {},
     "output_type": "execute_result"
    }
   ],
   "source": [
    "gen_list([1,2,3,4,5,6,7,8,9,10])"
   ]
  },
  {
   "cell_type": "code",
   "execution_count": null,
   "id": "bfaa6c15",
   "metadata": {},
   "outputs": [],
   "source": []
  },
  {
   "cell_type": "code",
   "execution_count": 101,
   "id": "90596c07",
   "metadata": {},
   "outputs": [],
   "source": [
    "def gen_list(list1):\n",
    "    list2 = list1.copy()\n",
    "    list2 = list2[0][::-1]\n",
    "    list3 = []\n",
    "    for i in range(len(list1[1])):\n",
    "        list3.append(list1[0][i] + list1[1][i])\n",
    "    return list2, list3"
   ]
  },
  {
   "cell_type": "code",
   "execution_count": 102,
   "id": "f6c63998",
   "metadata": {},
   "outputs": [
    {
     "data": {
      "text/plain": [
       "([5, 4, 3, 2, 1], [7, 9, 11, 13, 15])"
      ]
     },
     "execution_count": 102,
     "metadata": {},
     "output_type": "execute_result"
    }
   ],
   "source": [
    "gen_list([[1,2,3,4,5],[6,7,8,9,10]])"
   ]
  },
  {
   "cell_type": "code",
   "execution_count": null,
   "id": "30e691d3",
   "metadata": {},
   "outputs": [],
   "source": []
  },
  {
   "cell_type": "code",
   "execution_count": 115,
   "id": "6cc51977",
   "metadata": {},
   "outputs": [],
   "source": [
    "def gen_list(str):\n",
    "    str = str.split(\" \")\n",
    "    return sorted(str)"
   ]
  },
  {
   "cell_type": "code",
   "execution_count": 116,
   "id": "0c0ebe24",
   "metadata": {},
   "outputs": [
    {
     "data": {
      "text/plain": [
       "['Python', 'При', 'именем', 'помощи', 'реализуйте', 'с', 'функцию']"
      ]
     },
     "execution_count": 116,
     "metadata": {},
     "output_type": "execute_result"
    }
   ],
   "source": [
    "gen_list('При помощи Python реализуйте функцию с именем')"
   ]
  },
  {
   "cell_type": "code",
   "execution_count": null,
   "id": "70aea50a",
   "metadata": {},
   "outputs": [],
   "source": []
  },
  {
   "cell_type": "code",
   "execution_count": 117,
   "id": "9bbac3a0",
   "metadata": {},
   "outputs": [],
   "source": [
    "def gen_list(n, str):\n",
    "    list = []\n",
    "    str = str.split(\" \")\n",
    "    for i in str:\n",
    "        if n > len(i):\n",
    "            list.append(i)\n",
    "    return list"
   ]
  },
  {
   "cell_type": "code",
   "execution_count": 119,
   "id": "3f87e8a5",
   "metadata": {},
   "outputs": [
    {
     "data": {
      "text/plain": [
       "['При', 'помощи', 'Python', 'с', 'именем']"
      ]
     },
     "execution_count": 119,
     "metadata": {},
     "output_type": "execute_result"
    }
   ],
   "source": [
    "gen_list(7, 'При помощи Python реализуйте функцию с именем')"
   ]
  },
  {
   "cell_type": "code",
   "execution_count": null,
   "id": "9db6572c",
   "metadata": {},
   "outputs": [],
   "source": []
  },
  {
   "cell_type": "code",
   "execution_count": 137,
   "id": "b37ff421",
   "metadata": {},
   "outputs": [],
   "source": [
    "def last_item(t):\n",
    "    el = t[len(t) - 1]\n",
    "    return el"
   ]
  },
  {
   "cell_type": "code",
   "execution_count": 138,
   "id": "792cac0a",
   "metadata": {},
   "outputs": [
    {
     "data": {
      "text/plain": [
       "9"
      ]
     },
     "execution_count": 138,
     "metadata": {},
     "output_type": "execute_result"
    }
   ],
   "source": [
    "last_item((5, 6, 7, 9))"
   ]
  },
  {
   "cell_type": "code",
   "execution_count": null,
   "id": "0b5520d5",
   "metadata": {},
   "outputs": [],
   "source": []
  },
  {
   "cell_type": "code",
   "execution_count": 143,
   "id": "b175e702",
   "metadata": {},
   "outputs": [],
   "source": [
    "def change_tuple(t, item):\n",
    "    t = list(t)\n",
    "    t[0] = item\n",
    "    t = tuple(t)\n",
    "    return t"
   ]
  },
  {
   "cell_type": "code",
   "execution_count": 144,
   "id": "ded94cbf",
   "metadata": {},
   "outputs": [
    {
     "data": {
      "text/plain": [
       "('c', 'a', 'b', 5)"
      ]
     },
     "execution_count": 144,
     "metadata": {},
     "output_type": "execute_result"
    }
   ],
   "source": [
    "change_tuple((1, 'a', 'b', 5), 'c')"
   ]
  },
  {
   "cell_type": "code",
   "execution_count": null,
   "id": "2f066049",
   "metadata": {},
   "outputs": [],
   "source": []
  },
  {
   "cell_type": "code",
   "execution_count": 159,
   "id": "ed1694c8",
   "metadata": {},
   "outputs": [],
   "source": [
    "def tuple_index(t, list1):\n",
    "    t1 = []\n",
    "    for i in list1:\n",
    "        if i > len(t) - 1:\n",
    "            t1.append(None)\n",
    "        else:\n",
    "            t1.append(t[i])\n",
    "    return t1"
   ]
  },
  {
   "cell_type": "code",
   "execution_count": 160,
   "id": "8e3cd87b",
   "metadata": {},
   "outputs": [
    {
     "data": {
      "text/plain": [
       "['a', None, 5]"
      ]
     },
     "execution_count": 160,
     "metadata": {},
     "output_type": "execute_result"
    }
   ],
   "source": [
    "tuple_index((1, 'a', 'b', 5), [1, 10, 3])"
   ]
  },
  {
   "cell_type": "code",
   "execution_count": null,
   "id": "5f453492",
   "metadata": {},
   "outputs": [],
   "source": []
  },
  {
   "cell_type": "code",
   "execution_count": 1,
   "id": "8b6238f5",
   "metadata": {},
   "outputs": [],
   "source": [
    "def gen_dict(Name, Age):\n",
    "    person = {}\n",
    "    for k, v in zip(Name, Age):\n",
    "        person[k] = v\n",
    "    return person"
   ]
  },
  {
   "cell_type": "code",
   "execution_count": 2,
   "id": "912f3149",
   "metadata": {},
   "outputs": [
    {
     "data": {
      "text/plain": [
       "{'Kate': 23, 'Lena': 56, 'Dima': 33}"
      ]
     },
     "execution_count": 2,
     "metadata": {},
     "output_type": "execute_result"
    }
   ],
   "source": [
    "gen_dict(['Kate', 'Lena', 'Dima'], [23, 56, 33])"
   ]
  },
  {
   "cell_type": "code",
   "execution_count": null,
   "id": "16782a0a",
   "metadata": {},
   "outputs": [],
   "source": []
  },
  {
   "cell_type": "code",
   "execution_count": null,
   "id": "9151f51f",
   "metadata": {},
   "outputs": [],
   "source": []
  },
  {
   "cell_type": "code",
   "execution_count": null,
   "id": "3c6b6451",
   "metadata": {},
   "outputs": [],
   "source": []
  },
  {
   "cell_type": "code",
   "execution_count": null,
   "id": "485c10b8",
   "metadata": {},
   "outputs": [],
   "source": []
  },
  {
   "cell_type": "code",
   "execution_count": null,
   "id": "fef3f910",
   "metadata": {},
   "outputs": [],
   "source": []
  },
  {
   "cell_type": "code",
   "execution_count": null,
   "id": "dc8e4360",
   "metadata": {},
   "outputs": [],
   "source": []
  }
 ],
 "metadata": {
  "kernelspec": {
   "display_name": "Python 3 (ipykernel)",
   "language": "python",
   "name": "python3"
  },
  "language_info": {
   "codemirror_mode": {
    "name": "ipython",
    "version": 3
   },
   "file_extension": ".py",
   "mimetype": "text/x-python",
   "name": "python",
   "nbconvert_exporter": "python",
   "pygments_lexer": "ipython3",
   "version": "3.10.9"
  }
 },
 "nbformat": 4,
 "nbformat_minor": 5
}
