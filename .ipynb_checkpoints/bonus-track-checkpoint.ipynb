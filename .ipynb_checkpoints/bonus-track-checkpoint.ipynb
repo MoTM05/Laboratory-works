{
 "cells": [
  {
   "cell_type": "code",
   "execution_count": 24,
   "id": "7e1d8b60",
   "metadata": {},
   "outputs": [],
   "source": [
    "def grade(score):\n",
    "    if score >= 0 and score < 60:\n",
    "        return ('неудовлетворительно')\n",
    "    elif score >= 60 and score <= 74:\n",
    "        return ('удовлетворительно')\n",
    "    elif score > 74 and score <= 90:\n",
    "        return ('хорошо')\n",
    "    elif score > 90 and score <= 100:\n",
    "        return ('отлично')"
   ]
  },
  {
   "cell_type": "code",
   "execution_count": 27,
   "id": "906eb72e",
   "metadata": {},
   "outputs": [
    {
     "data": {
      "text/plain": [
       "'отлично'"
      ]
     },
     "execution_count": 27,
     "metadata": {},
     "output_type": "execute_result"
    }
   ],
   "source": [
    "grade(95)"
   ]
  },
  {
   "cell_type": "code",
   "execution_count": null,
   "id": "767eed80",
   "metadata": {},
   "outputs": [],
   "source": []
  },
  {
   "cell_type": "code",
   "execution_count": 28,
   "id": "647c38dd",
   "metadata": {},
   "outputs": [],
   "source": [
    "def solve(a, b):\n",
    "    x = b / a\n",
    "    if a == 0 and b != 0:\n",
    "        return ('Error')\n",
    "    elif x == 1:\n",
    "        return ('Any')\n",
    "    else:\n",
    "        return x"
   ]
  },
  {
   "cell_type": "code",
   "execution_count": null,
   "id": "bd70373b",
   "metadata": {},
   "outputs": [],
   "source": []
  },
  {
   "cell_type": "code",
   "execution_count": null,
   "id": "a458e111",
   "metadata": {},
   "outputs": [],
   "source": []
  },
  {
   "cell_type": "code",
   "execution_count": null,
   "id": "c506d9b7",
   "metadata": {},
   "outputs": [],
   "source": []
  },
  {
   "cell_type": "code",
   "execution_count": null,
   "id": "63b137f5",
   "metadata": {},
   "outputs": [],
   "source": []
  },
  {
   "cell_type": "code",
   "execution_count": null,
   "id": "3fa06dcc",
   "metadata": {},
   "outputs": [],
   "source": []
  }
 ],
 "metadata": {
  "kernelspec": {
   "display_name": "Python 3 (ipykernel)",
   "language": "python",
   "name": "python3"
  },
  "language_info": {
   "codemirror_mode": {
    "name": "ipython",
    "version": 3
   },
   "file_extension": ".py",
   "mimetype": "text/x-python",
   "name": "python",
   "nbconvert_exporter": "python",
   "pygments_lexer": "ipython3",
   "version": "3.10.9"
  }
 },
 "nbformat": 4,
 "nbformat_minor": 5
}
