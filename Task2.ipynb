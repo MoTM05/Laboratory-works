{
 "cells": [
  {
   "cell_type": "code",
   "execution_count": 1,
   "id": "5480e919",
   "metadata": {},
   "outputs": [],
   "source": [
    "import pandas as pd\n",
    "from sklearn.decomposition import PCA\n",
    "import matplotlib.pyplot as plt"
   ]
  },
  {
   "cell_type": "code",
   "execution_count": 6,
   "id": "f429d654",
   "metadata": {},
   "outputs": [],
   "source": [
    "df = pd.read_csv('94_16_Misha.csv', header=None)\n",
    "model = PCA(svd_solver='full', n_components=2)"
   ]
  },
  {
   "cell_type": "code",
   "execution_count": 7,
   "id": "9f71bfbe",
   "metadata": {},
   "outputs": [
    {
     "data": {
      "text/plain": [
       "<matplotlib.collections.PathCollection at 0x24d540c4550>"
      ]
     },
     "execution_count": 7,
     "metadata": {},
     "output_type": "execute_result"
    },
    {
     "data": {
      "image/png": "[encoded data removed]",
      "text/plain": [
       "<Figure size 640x480 with 1 Axes>"
      ]
     },
     "metadata": {},
     "output_type": "display_data"
    }
   ],
   "source": [
    "a = model.fit_transform(df)\n",
    "plt.scatter(a[:,0], a[:,1])"
   ]
  },
  {
   "cell_type": "code",
   "execution_count": 8,
   "id": "a8269a89",
   "metadata": {},
   "outputs": [
    {
     "data": {
      "text/plain": [
       "0.7809196366758896"
      ]
     },
     "execution_count": 8,
     "metadata": {},
     "output_type": "execute_result"
    }
   ],
   "source": [
    "model.explained_variance_ratio_.sum()"
   ]
  },
  {
   "cell_type": "code",
   "execution_count": 9,
   "id": "0f794a99",
   "metadata": {},
   "outputs": [
    {
     "data": {
      "text/plain": [
       "array([[-19.05792582,  31.91261445],\n",
       "       [ 47.94214826,   3.19305177],\n",
       "       [-18.60812375,  -7.92582395],\n",
       "       [-18.23644007,  -7.43741694],\n",
       "       [-11.43675717, -29.76952731],\n",
       "       [-15.52505858,  33.87934044],\n",
       "       [-19.39685035,  -6.7337932 ],\n",
       "       [-16.88217222,  30.18448633],\n",
       "       [-19.08571115,  -3.28177924],\n",
       "       [-17.87221259,  32.47502423],\n",
       "       [-16.29422745,  32.43893874],\n",
       "       [-10.29574423, -28.29207343],\n",
       "       [-12.99423868, -26.70956818],\n",
       "       [-12.83435599, -28.62230398],\n",
       "       [-15.65006147,  31.37187432],\n",
       "       [ 46.63268255,  -0.88834341],\n",
       "       [-14.62192458, -27.18271742],\n",
       "       [-19.03135742,  -5.64593289],\n",
       "       [ 50.04555399,   2.97068022],\n",
       "       [-11.88675431, -25.74425852],\n",
       "       [-14.66003114,  30.76939487],\n",
       "       [ 51.04412659,   3.57900991],\n",
       "       [-19.3836692 ,  -6.18511176],\n",
       "       [-16.0653657 ,  31.78146888],\n",
       "       [ 45.09194377,  -0.93218875],\n",
       "       [-14.76033299, -26.63009796],\n",
       "       [-12.36024813, -26.34010061],\n",
       "       [-21.04709394,  -7.83405153],\n",
       "       [-13.44045836,  35.87579415],\n",
       "       [-23.23457072,  -5.88467891],\n",
       "       [-15.51557762,  30.71289973],\n",
       "       [-13.80923492, -27.95851191],\n",
       "       [-11.42151735, -27.47266923],\n",
       "       [ 50.50366568,   0.44276433],\n",
       "       [ 48.99464545,   2.08384193],\n",
       "       [-16.16653008,  30.86542741],\n",
       "       [-14.40407705,  31.61185495],\n",
       "       [-10.68927857, -27.32412604],\n",
       "       [-17.7637286 ,  -3.88348831],\n",
       "       [-12.85014717, -28.8201071 ],\n",
       "       [ 47.96502094,   2.48362486],\n",
       "       [ 47.62685687,   3.67982078],\n",
       "       [ 48.92551848,  -0.17793024],\n",
       "       [-11.01507147, -28.24591962],\n",
       "       [-15.83588837,  32.1802549 ],\n",
       "       [-20.76316559,  -6.68760101],\n",
       "       [-20.84553455,  -3.40563474],\n",
       "       [-19.93113066,  -4.30553297],\n",
       "       [ 44.85088642,  -0.8676902 ],\n",
       "       [ 48.13356987,   2.66062405],\n",
       "       [-18.73928376,  -7.67287194],\n",
       "       [ 50.44145173,  -0.68533755],\n",
       "       [-18.826607  ,  33.65805511],\n",
       "       [-20.536066  ,  -4.4352914 ],\n",
       "       [ 48.01942788,   2.46430083],\n",
       "       [-12.71180806, -26.30082916],\n",
       "       [ 48.19819044,  -1.43393338],\n",
       "       [-18.46390349,  -7.63393904],\n",
       "       [-13.34430298, -27.77555037],\n",
       "       [-16.12114963,  33.85158501]])"
      ]
     },
     "execution_count": 9,
     "metadata": {},
     "output_type": "execute_result"
    }
   ],
   "source": [
    "a"
   ]
  },
  {
   "cell_type": "code",
   "execution_count": null,
   "id": "9db65397",
   "metadata": {},
   "outputs": [],
   "source": []
  }
 ],
 "metadata": {
  "kernelspec": {
   "display_name": "Python 3 (ipykernel)",
   "language": "python",
   "name": "python3"
  },
  "language_info": {
   "codemirror_mode": {
    "name": "ipython",
    "version": 3
   },
   "file_extension": ".py",
   "mimetype": "text/x-python",
   "name": "python",
   "nbconvert_exporter": "python",
   "pygments_lexer": "ipython3",
   "version": "3.10.9"
  }
 },
 "nbformat": 4,
 "nbformat_minor": 5
}
