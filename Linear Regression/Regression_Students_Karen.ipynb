{
 "cells": [
  {
   "cell_type": "markdown",
   "metadata": {
    "id": "9eFThHrPlCFg"
   },
   "source": [
    "Импорт библиотек"
   ]
  },
  {
   "cell_type": "code",
   "execution_count": 2,
   "metadata": {
    "id": "zqaeN2z8v3qR"
   },
   "outputs": [],
   "source": [
    "import pandas as pd\n",
    "import seaborn as sns\n",
    "from sklearn.model_selection import train_test_split \n",
    "from sklearn.decomposition import PCA\n",
    "from sklearn.linear_model import LinearRegression\n",
    "from sklearn.metrics import r2_score"
   ]
  },
  {
   "cell_type": "markdown",
   "metadata": {
    "id": "QTq1SRHEzF6J"
   },
   "source": [
    "Всего датасет содержит 159 записей. Мы предварительно зарезервировали часть датасета для задания по преодолению бейслайна (baseline). В настоящем задании подразумевается работа с датасетом, содержащим 119 записей."
   ]
  },
  {
   "cell_type": "markdown",
   "metadata": {
    "id": "bjyhxYK-eoem"
   },
   "source": [
    "# 0. Применение полиномиальной регрессии для предсказания непрерывного параметра"
   ]
  },
  {
   "cell_type": "markdown",
   "metadata": {
    "id": "VpkXz4mpeygZ"
   },
   "source": [
    "Представленный набор данных — это набор данных о семи различных типах рыб, продаваемых в некоторой рыбной лавке. Наша цель заключается в том, чтобы предсказать массу рыбы по каким-то косвенным признакам, известным о рыбе. Сами признаки, быть может, нужно синтезировать из тех, что известны."
   ]
  },
  {
   "cell_type": "markdown",
   "metadata": {
    "id": "K497OQtR0cbN"
   },
   "source": [
    "При помощи <code>train_test_split()</code> разбейте набор данных на обучающую и тестовую выборки с параметрами, указанными в вашем задании. Используйте стратификацию по колонке <code>Species</code>. Стратификация позволит сохранить доли представленных объектов (по представителям типов рыб) в тренировочной и тестовой выборках."
   ]
  },
  {
   "cell_type": "code",
   "execution_count": 3,
   "metadata": {
    "id": "KXoU2OWH0fn5"
   },
   "outputs": [
    {
     "data": {
      "text/html": [
       "<div>\n",
       "<style scoped>\n",
       "    .dataframe tbody tr th:only-of-type {\n",
       "        vertical-align: middle;\n",
       "    }\n",
       "\n",
       "    .dataframe tbody tr th {\n",
       "        vertical-align: top;\n",
       "    }\n",
       "\n",
       "    .dataframe thead th {\n",
       "        text-align: right;\n",
       "    }\n",
       "</style>\n",
       "<table border=\"1\" class=\"dataframe\">\n",
       "  <thead>\n",
       "    <tr style=\"text-align: right;\">\n",
       "      <th></th>\n",
       "      <th>Species</th>\n",
       "      <th>Weight</th>\n",
       "      <th>Length1</th>\n",
       "      <th>Length2</th>\n",
       "      <th>Length3</th>\n",
       "      <th>Height</th>\n",
       "      <th>Width</th>\n",
       "    </tr>\n",
       "  </thead>\n",
       "  <tbody>\n",
       "    <tr>\n",
       "      <th>0</th>\n",
       "      <td>Roach</td>\n",
       "      <td>150.0</td>\n",
       "      <td>20.4</td>\n",
       "      <td>22.0</td>\n",
       "      <td>24.7</td>\n",
       "      <td>5.8045</td>\n",
       "      <td>3.7544</td>\n",
       "    </tr>\n",
       "    <tr>\n",
       "      <th>1</th>\n",
       "      <td>Perch</td>\n",
       "      <td>250.0</td>\n",
       "      <td>25.4</td>\n",
       "      <td>27.5</td>\n",
       "      <td>28.9</td>\n",
       "      <td>7.2828</td>\n",
       "      <td>4.5662</td>\n",
       "    </tr>\n",
       "    <tr>\n",
       "      <th>2</th>\n",
       "      <td>Bream</td>\n",
       "      <td>430.0</td>\n",
       "      <td>26.5</td>\n",
       "      <td>29.0</td>\n",
       "      <td>34.0</td>\n",
       "      <td>12.4440</td>\n",
       "      <td>5.1340</td>\n",
       "    </tr>\n",
       "    <tr>\n",
       "      <th>3</th>\n",
       "      <td>Bream</td>\n",
       "      <td>925.0</td>\n",
       "      <td>36.2</td>\n",
       "      <td>39.5</td>\n",
       "      <td>45.3</td>\n",
       "      <td>18.7542</td>\n",
       "      <td>6.7497</td>\n",
       "    </tr>\n",
       "    <tr>\n",
       "      <th>4</th>\n",
       "      <td>Perch</td>\n",
       "      <td>110.0</td>\n",
       "      <td>19.0</td>\n",
       "      <td>21.0</td>\n",
       "      <td>22.5</td>\n",
       "      <td>5.6925</td>\n",
       "      <td>3.5550</td>\n",
       "    </tr>\n",
       "  </tbody>\n",
       "</table>\n",
       "</div>"
      ],
      "text/plain": [
       "  Species  Weight  Length1  Length2  Length3   Height   Width\n",
       "0   Roach   150.0     20.4     22.0     24.7   5.8045  3.7544\n",
       "1   Perch   250.0     25.4     27.5     28.9   7.2828  4.5662\n",
       "2   Bream   430.0     26.5     29.0     34.0  12.4440  5.1340\n",
       "3   Bream   925.0     36.2     39.5     45.3  18.7542  6.7497\n",
       "4   Perch   110.0     19.0     21.0     22.5   5.6925  3.5550"
      ]
     },
     "execution_count": 3,
     "metadata": {},
     "output_type": "execute_result"
    }
   ],
   "source": [
    "df = pd.read_csv('fish_train_Karen.csv')\n",
    "train, test = train_test_split(df, test_size = 0.2, random_state=23, stratify=df['Species'])\n",
    "df.head()"
   ]
  },
  {
   "cell_type": "markdown",
   "metadata": {
    "id": "euRpYppY1xuR"
   },
   "source": [
    "Вычислите выборочное среднее колонки <code>Width</code> полученной тренировочной выборки."
   ]
  },
  {
   "cell_type": "code",
   "execution_count": 4,
   "metadata": {
    "id": "3q_2UVQ_2Avj"
   },
   "outputs": [
    {
     "data": {
      "text/plain": [
       "4.448602105263158"
      ]
     },
     "execution_count": 4,
     "metadata": {},
     "output_type": "execute_result"
    }
   ],
   "source": [
    "train['Width'].mean()"
   ]
  },
  {
   "cell_type": "markdown",
   "metadata": {
    "id": "cAQId_950UCZ"
   },
   "source": [
    "# 1. Построение базовой модели\n",
    "\n",
    "Избавьтесь от категориальных признаков и обучите модель линейной регрессии (<code>LinearRegression()</code>) на тренировочном наборе данных. Выполните предсказания для тестового набора данных. Оцените модель при помощи метрики <code>r2_score()</code>."
   ]
  },
  {
   "cell_type": "code",
   "execution_count": 5,
   "metadata": {
    "id": "J9QyfzCx5FrA"
   },
   "outputs": [
    {
     "data": {
      "text/plain": [
       "0.8885408749541966"
      ]
     },
     "execution_count": 5,
     "metadata": {},
     "output_type": "execute_result"
    }
   ],
   "source": [
    "model = LinearRegression()\n",
    "model.fit(train.drop(['Species', 'Weight'], axis = 1), train['Weight'])\n",
    "r2_score(test['Weight'], model.predict(test.drop(['Species', 'Weight'], axis = 1)))"
   ]
  },
  {
   "cell_type": "markdown",
   "metadata": {
    "id": "qPEFdTMe56b9"
   },
   "source": [
    "# 2. Добавление предварительной обработки признаков."
   ]
  },
  {
   "cell_type": "markdown",
   "metadata": {
    "id": "kKrNXjxTCS1D"
   },
   "source": [
    "## Использование PCA\n",
    "\n",
    "При помощи, например, <code>sns.heatmap()</code>, постройте матрицу корреляций признаков тренировочного набора данных и определите тройку наиболее коррелированных между собой признаков."
   ]
  },
  {
   "cell_type": "code",
   "execution_count": 6,
   "metadata": {
    "id": "HFtdKOdG62hS"
   },
   "outputs": [
    {
     "data": {
      "text/plain": [
       "<Axes: >"
      ]
     },
     "execution_count": 6,
     "metadata": {},
     "output_type": "execute_result"
    },
    {
     "data": {
      "image/png": "[encoded data removed]",
      "text/plain": [
       "<Figure size 640x480 with 2 Axes>"
      ]
     },
     "metadata": {},
     "output_type": "display_data"
    }
   ],
   "source": [
    "sns.heatmap(train.drop(['Species', 'Weight'], axis = 1).corr(), annot=True)"
   ]
  },
  {
   "cell_type": "markdown",
   "metadata": {
    "id": "Cx1RHggagRLr"
   },
   "source": [
    "Линейные модели достаточно плохо реагируют на коррелированные признаки, поэтому от таких признаков имеет смысл избавиться еще до начала обучения."
   ]
  },
  {
   "cell_type": "markdown",
   "metadata": {
    "id": "e6AquRcu7Gvb"
   },
   "source": [
    "Для уменьшения количества неинформативных измерений используйте метод главных компонент. \n",
    "\n",
    "1) Примените метод главных компонент (<code>PCA(n_components=3, svd_solver='full')</code>) для трех найденных наиболее коррелированных признаков. \n",
    "\n",
    "2) Вычислите долю объясненной дисперсии при использовании только первой главной компоненты. \n",
    "\n",
    "3) Замените три наиболее коррелированных признака на новый признак <code>Lengths</code>, значения которого совпадают со значениями счетов первой главной компоненты."
   ]
  },
  {
   "cell_type": "code",
   "execution_count": 7,
   "metadata": {
    "id": "VlPLHO2U8PiA"
   },
   "outputs": [
    {
     "data": {
      "text/plain": [
       "array([9.96041031e-01, 3.85124644e-03, 1.07722506e-04])"
      ]
     },
     "execution_count": 7,
     "metadata": {},
     "output_type": "execute_result"
    }
   ],
   "source": [
    "pca = PCA(svd_solver='full', n_components=3)\n",
    "pca.fit(train[['Length1', 'Length2', 'Length3']])\n",
    "pca.explained_variance_ratio_"
   ]
  },
  {
   "cell_type": "markdown",
   "metadata": {
    "id": "kDrK2-Nd_ogF"
   },
   "source": [
    "Примените полученное преобразование для тех же признаков в тестовом наборе данных. Обратите внимание, что заново обучать преобразование `PCA` не нужно. Аналогично предыдущему этапу замените три рассмотренных признака на один."
   ]
  },
  {
   "cell_type": "code",
   "execution_count": 8,
   "metadata": {
    "id": "xEOAkMFf-T5m"
   },
   "outputs": [],
   "source": [
    "test['Lengths'] = pca.transform(test[['Length1', 'Length2', 'Length3']])[:, 0]\n",
    "train['Lengths'] = pca.transform(train[['Length1', 'Length2', 'Length3']])[:, 0]"
   ]
  },
  {
   "cell_type": "markdown",
   "metadata": {
    "id": "NGiPC64DAmRb"
   },
   "source": [
    "Обучите базовую модель линейной регресси на полученных тренировочных данных, снова выбросив категориальные признаки. Выполните предсказания для тестовых данных, оцените при помощи <code>r2_score()</code>."
   ]
  },
  {
   "cell_type": "code",
   "execution_count": 9,
   "metadata": {
    "id": "EVu8wL6QA1Ci"
   },
   "outputs": [
    {
     "data": {
      "text/plain": [
       "0.8925481416058358"
      ]
     },
     "execution_count": 9,
     "metadata": {},
     "output_type": "execute_result"
    }
   ],
   "source": [
    "model = LinearRegression()\n",
    "model.fit(train.drop(['Species', 'Weight', 'Length1', 'Length2', 'Length3'], axis = 1), train['Weight'])\n",
    "r2_score(test['Weight'], model.predict(test.drop(['Species', 'Weight', 'Length1', 'Length2', 'Length3'], axis = 1)))"
   ]
  },
  {
   "cell_type": "markdown",
   "metadata": {
    "id": "BFPWkxOnieem"
   },
   "source": [
    "Видно, что точность значительно не изменилась."
   ]
  },
  {
   "cell_type": "markdown",
   "metadata": {
    "id": "hJm3yq--BcT7"
   },
   "source": [
    "## Модификация признаков"
   ]
  },
  {
   "cell_type": "markdown",
   "metadata": {
    "id": "T11p0ltmEFwR"
   },
   "source": [
    "Постройте графики зависимостей признаков от целевой переменной, например, при помощи <code>sns.pairplot()</code>."
   ]
  },
  {
   "cell_type": "code",
   "execution_count": null,
   "metadata": {
    "id": "0rifKCoWEQYj"
   },
   "outputs": [],
   "source": [
    "# < ENTER YOUR CODE HERE > "
   ]
  },
  {
   "cell_type": "markdown",
   "metadata": {
    "id": "L-v73i1vhi_9"
   },
   "source": [
    "Видно, что масса, вообще говоря, нелинейно зависит от остальных параметров. Значит, чтобы линейная модель хорошо справлялась с предсказанием, признаки имеет смысл преобразовать так, чтобы зависимость стала более похожей на линейную. Но как придумать такую зависимость?"
   ]
  },
  {
   "cell_type": "markdown",
   "metadata": {
    "id": "sSIndS-yCP6P"
   },
   "source": [
    "Логично предположить, что масса рыбы должна каким-то гладким образом зависеть от остальных параметров, отвечающих так или иначе за размеры. Если впомнить, что масса — это произведение плотности на объем, то\n",
    "\n",
    "$$\n",
    "m = \\rho \\cdot V.\n",
    "$$\n",
    "\n",
    "Допустим, что средняя плотность у всех рыб одинаковая, и вспомним, что при гомотетии объем объекта зависит от линейных размеров как куб, тогда получим\n",
    "\n",
    "$$\n",
    "m\\sim V\\sim d^3\n",
    "$$\n",
    "\n",
    "Все признаки тренировочного и тестового наборов данных, отвечающие так или иначе за размеры (<code>Height, Width, Lengths</code>), возведите в третью степень, и проверьте, стала ли зависимость массы от этих признаков похожа на линейную."
   ]
  },
  {
   "cell_type": "code",
   "execution_count": null,
   "metadata": {
    "id": "DOK0OyLVEmrh"
   },
   "outputs": [],
   "source": [
    "# < ENTER YOUR CODE HERE > "
   ]
  },
  {
   "cell_type": "markdown",
   "metadata": {
    "id": "Jm-1XAOpE_Dc"
   },
   "source": [
    "Введите выборочное среднее колонки <code>Width</code> тренировочного набора данных после возведения в куб."
   ]
  },
  {
   "cell_type": "code",
   "execution_count": null,
   "metadata": {
    "id": "5-2zYkgWGCFN"
   },
   "outputs": [],
   "source": [
    "# < ENTER YOUR CODE HERE > "
   ]
  },
  {
   "cell_type": "markdown",
   "metadata": {
    "id": "PCKM-CcQjfH5"
   },
   "source": [
    "Выберите изображения, соответствующие зависимости <code>Weight</code> от <code>Width</code> до преобразования и после."
   ]
  },
  {
   "cell_type": "markdown",
   "metadata": {
    "id": "NZtrdFamiTl1"
   },
   "source": [
    "Обучите базовую модель линейной регресси на полученных тренировочных данных, снова выбросив категориальные признаки. Выполните предсказания для тестовых данных, оцените при помощи `r2_score()`."
   ]
  },
  {
   "cell_type": "code",
   "execution_count": null,
   "metadata": {
    "id": "ybKUGN-GGUoH"
   },
   "outputs": [],
   "source": [
    "# < ENTER YOUR CODE HERE > "
   ]
  },
  {
   "cell_type": "markdown",
   "metadata": {
    "id": "WReH7dKZirOt"
   },
   "source": [
    "Обратите внимание на то, как такая нехитрая работа с признаками помогла разительно улучшить точность модели!"
   ]
  },
  {
   "cell_type": "markdown",
   "metadata": {
    "id": "MesFzgX1Sqgz"
   },
   "source": [
    "## Добавление категориальных признаков"
   ]
  },
  {
   "cell_type": "markdown",
   "metadata": {
    "id": "VThVRIkvSuV0"
   },
   "source": [
    "Произведите <code>one-hot</code> кодировние категориального признака `Species`, например, с помощью <code>pd.get_dummies()</code>.\n",
    "\n",
    "Обучите модель линейной регресси на полученных тренировочных данных. Выполните предсказания для тестовых данных, оцените модель при помощи <code>r2_score()</code>.\n",
    "\n",
    "<b>Примечание</b>: Мы специально использовали стратифицированное разделение, чтобы все значения категориального признака <code>Species</code> присутствовали во всех наборах данных. Но такое возможно не всегда. Про то, как с этим бороться можно почитать, [например, здесь](https://predictivehacks.com/?all-tips=how-to-deal-with-get_dummies-in-train-and-test-dataset)."
   ]
  },
  {
   "cell_type": "code",
   "execution_count": null,
   "metadata": {
    "id": "AcJDFGFLSpzT"
   },
   "outputs": [],
   "source": [
    "# < ENTER YOUR CODE HERE > "
   ]
  },
  {
   "cell_type": "markdown",
   "metadata": {
    "id": "bBDsQEGvjMV2"
   },
   "source": [
    "И снова точность возрасла."
   ]
  },
  {
   "cell_type": "markdown",
   "metadata": {
    "id": "vciWw1gajo5H"
   },
   "source": [
    "Как можно увидеть, после `one-hot` кодирования признаки стали коррелированы. От этого можно избавиться, например, при помощи параметра `drop_first=True`. Заново обучите модель после исправления этого недочета. Выполните предсказания для тестовых данных, оцените модель при помощи <code>r2_score()</code>."
   ]
  },
  {
   "cell_type": "code",
   "execution_count": null,
   "metadata": {
    "id": "zV6u-Ha1kH3p"
   },
   "outputs": [],
   "source": [
    "# < ENTER YOUR CODE HERE > "
   ]
  },
  {
   "cell_type": "markdown",
   "metadata": {
    "id": "ABS2Tw6tkSW5"
   },
   "source": [
    "На таком сравнительно небольшом наборе данных, впрочем, разницы мы не видим."
   ]
  }
 ],
 "metadata": {
  "colab": {
   "provenance": []
  },
  "kernelspec": {
   "display_name": "Python 3 (ipykernel)",
   "language": "python",
   "name": "python3"
  },
  "language_info": {
   "codemirror_mode": {
    "name": "ipython",
    "version": 3
   },
   "file_extension": ".py",
   "mimetype": "text/x-python",
   "name": "python",
   "nbconvert_exporter": "python",
   "pygments_lexer": "ipython3",
   "version": "3.10.9"
  }
 },
 "nbformat": 4,
 "nbformat_minor": 1
}
