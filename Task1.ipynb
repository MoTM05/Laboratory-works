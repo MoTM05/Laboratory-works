{
 "cells": [
  {
   "cell_type": "code",
   "execution_count": 12,
   "id": "5c9c4580",
   "metadata": {},
   "outputs": [],
   "source": [
    "import pandas as pd"
   ]
  },
  {
   "cell_type": "code",
   "execution_count": 13,
   "id": "2d48a667",
   "metadata": {
    "scrolled": true
   },
   "outputs": [],
   "source": [
    "df = pd.read_excel('Task1_Artem.xlsx')"
   ]
  },
  {
   "cell_type": "code",
   "execution_count": 14,
   "id": "6f9419a0",
   "metadata": {},
   "outputs": [],
   "source": [
    "df = df.sort_values('salary')"
   ]
  },
  {
   "cell_type": "code",
   "execution_count": 19,
   "id": "c3d4d23e",
   "metadata": {},
   "outputs": [
    {
     "data": {
      "text/plain": [
       "region_name    Оренбургская область\n",
       "salary                        29892\n",
       "Name: 24, dtype: object"
      ]
     },
     "execution_count": 19,
     "metadata": {},
     "output_type": "execute_result"
    }
   ],
   "source": [
    "df.iloc[24]"
   ]
  },
  {
   "cell_type": "code",
   "execution_count": 20,
   "id": "c0640cc5",
   "metadata": {},
   "outputs": [
    {
     "data": {
      "text/plain": [
       "region_name    Новосибирская область\n",
       "salary                         36048\n",
       "Name: 47, dtype: object"
      ]
     },
     "execution_count": 20,
     "metadata": {},
     "output_type": "execute_result"
    }
   ],
   "source": [
    "df.iloc[47]"
   ]
  },
  {
   "cell_type": "code",
   "execution_count": 21,
   "id": "efeb1ec6",
   "metadata": {},
   "outputs": [
    {
     "data": {
      "text/plain": [
       "region_name    Республика Бурятия\n",
       "salary                      37867\n",
       "Name: 52, dtype: object"
      ]
     },
     "execution_count": 21,
     "metadata": {},
     "output_type": "execute_result"
    }
   ],
   "source": [
    "df.iloc[52]"
   ]
  },
  {
   "cell_type": "code",
   "execution_count": 7,
   "id": "7020f4e7",
   "metadata": {},
   "outputs": [
    {
     "data": {
      "text/plain": [
       "33197.5"
      ]
     },
     "execution_count": 7,
     "metadata": {},
     "output_type": "execute_result"
    }
   ],
   "source": [
    "df['salary'].median()"
   ]
  },
  {
   "cell_type": "code",
   "execution_count": 8,
   "id": "f9f65ed1",
   "metadata": {},
   "outputs": [
    {
     "data": {
      "text/plain": [
       "39399.05"
      ]
     },
     "execution_count": 8,
     "metadata": {},
     "output_type": "execute_result"
    }
   ],
   "source": [
    "df['salary'].mean()"
   ]
  },
  {
   "cell_type": "code",
   "execution_count": null,
   "id": "a5950f94",
   "metadata": {},
   "outputs": [],
   "source": []
  }
 ],
 "metadata": {
  "kernelspec": {
   "display_name": "Python 3 (ipykernel)",
   "language": "python",
   "name": "python3"
  },
  "language_info": {
   "codemirror_mode": {
    "name": "ipython",
    "version": 3
   },
   "file_extension": ".py",
   "mimetype": "text/x-python",
   "name": "python",
   "nbconvert_exporter": "python",
   "pygments_lexer": "ipython3",
   "version": "3.10.9"
  }
 },
 "nbformat": 4,
 "nbformat_minor": 5
}
