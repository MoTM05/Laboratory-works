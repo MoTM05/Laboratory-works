{
 "cells": [
  {
   "cell_type": "markdown",
   "metadata": {
    "id": "9eFThHrPlCFg"
   },
   "source": [
    "Импорт библиотек"
   ]
  },
  {
   "cell_type": "code",
   "execution_count": null,
   "metadata": {
    "id": "zqaeN2z8v3qR"
   },
   "outputs": [],
   "source": [
    "import pandas as pd\n",
    "import seaborn as sns\n",
    "from sklearn.model_selection import train_test_split \n",
    "from sklearn.decomposition import PCA\n",
    "from sklearn.linear_model import LinearRegression\n",
    "from sklearn.metrics import r2_score"
   ]
  },
  {
   "cell_type": "markdown",
   "metadata": {
    "id": "QTq1SRHEzF6J"
   },
   "source": [
    "Всего датасет содержит 159 записей. Мы предварительно зарезервировали часть датасета для задания по преодолению бейслайна (baseline). В настоящем задании подразумевается работа с датасетом, содержащим 119 записей."
   ]
  },
  {
   "cell_type": "markdown",
   "metadata": {
    "id": "bjyhxYK-eoem"
   },
   "source": [
    "# 0. Применение полиномиальной регрессии для предсказания непрерывного параметра"
   ]
  },
  {
   "cell_type": "markdown",
   "metadata": {
    "id": "VpkXz4mpeygZ"
   },
   "source": [
    "Представленный набор данных — это набор данных о семи различных типах рыб, продаваемых в некоторой рыбной лавке. Наша цель заключается в том, чтобы предсказать массу рыбы по каким-то косвенным признакам, известным о рыбе. Сами признаки, быть может, нужно синтезировать из тех, что известны."
   ]
  },
  {
   "cell_type": "markdown",
   "metadata": {
    "id": "K497OQtR0cbN"
   },
   "source": [
    "При помощи <code>train_test_split()</code> разбейте набор данных на обучающую и тестовую выборки с параметрами, указанными в вашем задании. Используйте стратификацию по колонке <code>Species</code>. Стратификация позволит сохранить доли представленных объектов (по представителям типов рыб) в тренировочной и тестовой выборках."
   ]
  },
  {
   "cell_type": "code",
   "execution_count": null,
   "metadata": {
    "id": "KXoU2OWH0fn5"
   },
   "outputs": [],
   "source": [
    "# < ENTER YOUR CODE HERE > "
   ]
  },
  {
   "cell_type": "markdown",
   "metadata": {
    "id": "euRpYppY1xuR"
   },
   "source": [
    "Вычислите выборочное среднее колонки <code>Width</code> полученной тренировочной выборки."
   ]
  },
  {
   "cell_type": "code",
   "execution_count": null,
   "metadata": {
    "id": "3q_2UVQ_2Avj"
   },
   "outputs": [],
   "source": [
    "# < ENTER YOUR CODE HERE > "
   ]
  },
  {
   "cell_type": "markdown",
   "metadata": {
    "id": "cAQId_950UCZ"
   },
   "source": [
    "# 1. Построение базовой модели\n",
    "\n",
    "Избавьтесь от категориальных признаков и обучите модель линейной регрессии (<code>LinearRegression()</code>) на тренировочном наборе данных. Выполните предсказания для тестового набора данных. Оцените модель при помощи метрики <code>r2_score()</code>."
   ]
  },
  {
   "cell_type": "code",
   "execution_count": null,
   "metadata": {
    "id": "J9QyfzCx5FrA"
   },
   "outputs": [],
   "source": [
    "# < ENTER YOUR CODE HERE > "
   ]
  },
  {
   "cell_type": "markdown",
   "metadata": {
    "id": "qPEFdTMe56b9"
   },
   "source": [
    "# 2. Добавление предварительной обработки признаков."
   ]
  },
  {
   "cell_type": "markdown",
   "metadata": {
    "id": "kKrNXjxTCS1D"
   },
   "source": [
    "## Использование PCA\n",
    "\n",
    "При помощи, например, <code>sns.heatmap()</code>, постройте матрицу корреляций признаков тренировочного набора данных и определите тройку наиболее коррелированных между собой признаков."
   ]
  },
  {
   "cell_type": "code",
   "execution_count": null,
   "metadata": {
    "id": "HFtdKOdG62hS"
   },
   "outputs": [],
   "source": [
    "# < ENTER YOUR CODE HERE > "
   ]
  },
  {
   "cell_type": "markdown",
   "metadata": {
    "id": "Cx1RHggagRLr"
   },
   "source": [
    "Линейные модели достаточно плохо реагируют на коррелированные признаки, поэтому от таких признаков имеет смысл избавиться еще до начала обучения."
   ]
  },
  {
   "cell_type": "markdown",
   "metadata": {
    "id": "e6AquRcu7Gvb"
   },
   "source": [
    "Для уменьшения количества неинформативных измерений используйте метод главных компонент. \n",
    "\n",
    "1) Примените метод главных компонент (<code>PCA(n_components=3, svd_solver='full')</code>) для трех найденных наиболее коррелированных признаков. \n",
    "\n",
    "2) Вычислите долю объясненной дисперсии при использовании только первой главной компоненты. \n",
    "\n",
    "3) Замените три наиболее коррелированных признака на новый признак <code>Lengths</code>, значения которого совпадают со значениями счетов первой главной компоненты."
   ]
  },
  {
   "cell_type": "code",
   "execution_count": null,
   "metadata": {
    "id": "VlPLHO2U8PiA"
   },
   "outputs": [],
   "source": [
    "# < ENTER YOUR CODE HERE > "
   ]
  },
  {
   "cell_type": "markdown",
   "metadata": {
    "id": "kDrK2-Nd_ogF"
   },
   "source": [
    "Примените полученное преобразование для тех же признаков в тестовом наборе данных. Обратите внимание, что заново обучать преобразование `PCA` не нужно. Аналогично предыдущему этапу замените три рассмотренных признака на один."
   ]
  },
  {
   "cell_type": "code",
   "execution_count": null,
   "metadata": {
    "id": "xEOAkMFf-T5m"
   },
   "outputs": [],
   "source": [
    "# < ENTER YOUR CODE HERE > "
   ]
  },
  {
   "cell_type": "markdown",
   "metadata": {
    "id": "NGiPC64DAmRb"
   },
   "source": [
    "Обучите базовую модель линейной регресси на полученных тренировочных данных, снова выбросив категориальные признаки. Выполните предсказания для тестовых данных, оцените при помощи <code>r2_score()</code>."
   ]
  },
  {
   "cell_type": "code",
   "execution_count": null,
   "metadata": {
    "id": "EVu8wL6QA1Ci"
   },
   "outputs": [],
   "source": [
    "# < ENTER YOUR CODE HERE > "
   ]
  },
  {
   "cell_type": "markdown",
   "metadata": {
    "id": "BFPWkxOnieem"
   },
   "source": [
    "Видно, что точность значительно не изменилась."
   ]
  },
  {
   "cell_type": "markdown",
   "metadata": {
    "id": "hJm3yq--BcT7"
   },
   "source": [
    "## Модификация признаков"
   ]
  },
  {
   "cell_type": "markdown",
   "metadata": {
    "id": "T11p0ltmEFwR"
   },
   "source": [
    "Постройте графики зависимостей признаков от целевой переменной, например, при помощи <code>sns.pairplot()</code>."
   ]
  },
  {
   "cell_type": "code",
   "execution_count": null,
   "metadata": {
    "id": "0rifKCoWEQYj"
   },
   "outputs": [],
   "source": [
    "# < ENTER YOUR CODE HERE > "
   ]
  },
  {
   "cell_type": "markdown",
   "metadata": {
    "id": "L-v73i1vhi_9"
   },
   "source": [
    "Видно, что масса, вообще говоря, нелинейно зависит от остальных параметров. Значит, чтобы линейная модель хорошо справлялась с предсказанием, признаки имеет смысл преобразовать так, чтобы зависимость стала более похожей на линейную. Но как придумать такую зависимость?"
   ]
  },
  {
   "cell_type": "markdown",
   "metadata": {
    "id": "sSIndS-yCP6P"
   },
   "source": [
    "Логично предположить, что масса рыбы должна каким-то гладким образом зависеть от остальных параметров, отвечающих так или иначе за размеры. Если впомнить, что масса — это произведение плотности на объем, то\n",
    "\n",
    "$$\n",
    "m = \\rho \\cdot V.\n",
    "$$\n",
    "\n",
    "Допустим, что средняя плотность у всех рыб одинаковая, и вспомним, что при гомотетии объем объекта зависит от линейных размеров как куб, тогда получим\n",
    "\n",
    "$$\n",
    "m\\sim V\\sim d^3\n",
    "$$\n",
    "\n",
    "Все признаки тренировочного и тестового наборов данных, отвечающие так или иначе за размеры (<code>Height, Width, Lengths</code>), возведите в третью степень, и проверьте, стала ли зависимость массы от этих признаков похожа на линейную."
   ]
  },
  {
   "cell_type": "code",
   "execution_count": null,
   "metadata": {
    "id": "DOK0OyLVEmrh"
   },
   "outputs": [],
   "source": [
    "# < ENTER YOUR CODE HERE > "
   ]
  },
  {
   "cell_type": "markdown",
   "metadata": {
    "id": "Jm-1XAOpE_Dc"
   },
   "source": [
    "Введите выборочное среднее колонки <code>Width</code> тренировочного набора данных после возведения в куб."
   ]
  },
  {
   "cell_type": "code",
   "execution_count": null,
   "metadata": {
    "id": "5-2zYkgWGCFN"
   },
   "outputs": [],
   "source": [
    "# < ENTER YOUR CODE HERE > "
   ]
  },
  {
   "cell_type": "markdown",
   "metadata": {
    "id": "PCKM-CcQjfH5"
   },
   "source": [
    "Выберите изображения, соответствующие зависимости <code>Weight</code> от <code>Width</code> до преобразования и после."
   ]
  },
  {
   "cell_type": "markdown",
   "metadata": {
    "id": "NZtrdFamiTl1"
   },
   "source": [
    "Обучите базовую модель линейной регресси на полученных тренировочных данных, снова выбросив категориальные признаки. Выполните предсказания для тестовых данных, оцените при помощи `r2_score()`."
   ]
  },
  {
   "cell_type": "code",
   "execution_count": null,
   "metadata": {
    "id": "ybKUGN-GGUoH"
   },
   "outputs": [],
   "source": [
    "# < ENTER YOUR CODE HERE > "
   ]
  },
  {
   "cell_type": "markdown",
   "metadata": {
    "id": "WReH7dKZirOt"
   },
   "source": [
    "Обратите внимание на то, как такая нехитрая работа с признаками помогла разительно улучшить точность модели!"
   ]
  },
  {
   "cell_type": "markdown",
   "metadata": {
    "id": "MesFzgX1Sqgz"
   },
   "source": [
    "## Добавление категориальных признаков"
   ]
  },
  {
   "cell_type": "markdown",
   "metadata": {
    "id": "VThVRIkvSuV0"
   },
   "source": [
    "Произведите <code>one-hot</code> кодировние категориального признака `Species`, например, с помощью <code>pd.get_dummies()</code>.\n",
    "\n",
    "Обучите модель линейной регресси на полученных тренировочных данных. Выполните предсказания для тестовых данных, оцените модель при помощи <code>r2_score()</code>.\n",
    "\n",
    "<b>Примечание</b>: Мы специально использовали стратифицированное разделение, чтобы все значения категориального признака <code>Species</code> присутствовали во всех наборах данных. Но такое возможно не всегда. Про то, как с этим бороться можно почитать, [например, здесь](https://predictivehacks.com/?all-tips=how-to-deal-with-get_dummies-in-train-and-test-dataset)."
   ]
  },
  {
   "cell_type": "code",
   "execution_count": null,
   "metadata": {
    "id": "AcJDFGFLSpzT"
   },
   "outputs": [],
   "source": [
    "# < ENTER YOUR CODE HERE > "
   ]
  },
  {
   "cell_type": "markdown",
   "metadata": {
    "id": "bBDsQEGvjMV2"
   },
   "source": [
    "И снова точность возрасла."
   ]
  },
  {
   "cell_type": "markdown",
   "metadata": {
    "id": "vciWw1gajo5H"
   },
   "source": [
    "Как можно увидеть, после `one-hot` кодирования признаки стали коррелированы. От этого можно избавиться, например, при помощи параметра `drop_first=True`. Заново обучите модель после исправления этого недочета. Выполните предсказания для тестовых данных, оцените модель при помощи <code>r2_score()</code>."
   ]
  },
  {
   "cell_type": "code",
   "execution_count": null,
   "metadata": {
    "id": "zV6u-Ha1kH3p"
   },
   "outputs": [],
   "source": [
    "# < ENTER YOUR CODE HERE > "
   ]
  },
  {
   "cell_type": "markdown",
   "metadata": {
    "id": "ABS2Tw6tkSW5"
   },
   "source": [
    "На таком сравнительно небольшом наборе данных, впрочем, разницы мы не видим."
   ]
  }
 ],
 "metadata": {
  "colab": {
   "provenance": []
  },
  "kernelspec": {
   "display_name": "Python 3",
   "name": "python3"
  },
  "language_info": {
   "name": "python"
  }
 },
 "nbformat": 4,
 "nbformat_minor": 0
}
